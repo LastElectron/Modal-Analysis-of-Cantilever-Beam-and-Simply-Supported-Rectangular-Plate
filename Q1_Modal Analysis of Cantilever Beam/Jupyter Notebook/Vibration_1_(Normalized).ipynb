{
 "cells": [
  {
   "cell_type": "code",
   "execution_count": 35,
   "id": "7fce025a-c8cd-4c4f-97a3-7460cf54e9ca",
   "metadata": {},
   "outputs": [],
   "source": [
    "import sympy as sym\n",
    "import numpy as np\n",
    "from IPython.display import Math, Latex, Markdown, display\n",
    "import math"
   ]
  },
  {
   "cell_type": "code",
   "execution_count": 36,
   "id": "c390d490-95b8-4a97-aa2a-ba2460293cc9",
   "metadata": {},
   "outputs": [
    {
     "data": {
      "text/latex": [
       "$\\displaystyle \\omega$"
      ],
      "text/plain": [
       "\\omega"
      ]
     },
     "metadata": {},
     "output_type": "display_data"
    },
    {
     "data": {
      "text/latex": [
       "$\\displaystyle n$"
      ],
      "text/plain": [
       "n"
      ]
     },
     "metadata": {},
     "output_type": "display_data"
    },
    {
     "data": {
      "text/latex": [
       "$\\displaystyle E$"
      ],
      "text/plain": [
       "E"
      ]
     },
     "metadata": {},
     "output_type": "display_data"
    },
    {
     "data": {
      "text/latex": [
       "$\\displaystyle I$"
      ],
      "text/plain": [
       "I"
      ]
     },
     "metadata": {},
     "output_type": "display_data"
    },
    {
     "data": {
      "text/latex": [
       "$\\displaystyle \\rho$"
      ],
      "text/plain": [
       "\\rho"
      ]
     },
     "metadata": {},
     "output_type": "display_data"
    },
    {
     "data": {
      "text/latex": [
       "$\\displaystyle A$"
      ],
      "text/plain": [
       "A"
      ]
     },
     "metadata": {},
     "output_type": "display_data"
    }
   ],
   "source": [
    "w, n, E , I, rho, A = sym.symbols('\\omega, n, E , I, \\\\rho, A')\n",
    "display(w, n, E , I, rho, A)"
   ]
  },
  {
   "cell_type": "code",
   "execution_count": 37,
   "id": "2f7b0c07-de20-461b-873f-42f7449378a0",
   "metadata": {},
   "outputs": [],
   "source": [
    "E = 140*10**9\n",
    "I = (0.05*0.025**3)/12\n",
    "rho = 3700\n",
    "A = 0.05*0.025"
   ]
  },
  {
   "cell_type": "code",
   "execution_count": 38,
   "id": "7b3b9850-896c-4b2b-8b97-84288f84d9a1",
   "metadata": {},
   "outputs": [
    {
     "data": {
      "text/plain": [
       "1.8749963267948966"
      ]
     },
     "metadata": {},
     "output_type": "display_data"
    },
    {
     "data": {
      "text/latex": [
       "$\\displaystyle \\omega_1 = 156.067827 \\, \\mathrm{rad/s}$"
      ],
      "text/plain": [
       "<IPython.core.display.Math object>"
      ]
     },
     "metadata": {},
     "output_type": "display_data"
    },
    {
     "data": {
      "text/latex": [
       "$\\displaystyle f_1 = 24.838966 \\, \\mathrm{Hz}$"
      ],
      "text/plain": [
       "<IPython.core.display.Math object>"
      ]
     },
     "metadata": {},
     "output_type": "display_data"
    }
   ],
   "source": [
    "n = 1\n",
    "\n",
    "beta = ((2*n-1)*np.pi/2 + 0.3042)\n",
    "display(beta)\n",
    "\n",
    "w = ((2*n-1)*np.pi/2 + 0.3042)**2*sym.sqrt(E*I/(rho*A)) #Page 144\n",
    "display(Math(r'\\omega_1 = {:.6f} \\, \\mathrm{{rad/s}}'.format(w)))\n",
    "\n",
    "f = w / (2*np.pi)\n",
    "display(Math(r'f_1 = {:.6f} \\, \\mathrm{{Hz}}'.format(f)))"
   ]
  },
  {
   "cell_type": "code",
   "execution_count": 39,
   "id": "c296fbad-3060-4a10-a574-c6b087147ce8",
   "metadata": {},
   "outputs": [
    {
     "data": {
      "text/latex": [
       "$\\displaystyle \\omega_2 = 978.296921 \\, \\mathrm{rad/s}$"
      ],
      "text/plain": [
       "<IPython.core.display.Math object>"
      ]
     },
     "metadata": {},
     "output_type": "display_data"
    },
    {
     "data": {
      "text/latex": [
       "$\\displaystyle f_2 = 155.700791 \\, \\mathrm{Hz}$"
      ],
      "text/plain": [
       "<IPython.core.display.Math object>"
      ]
     },
     "metadata": {},
     "output_type": "display_data"
    }
   ],
   "source": [
    "n = 2\n",
    "\n",
    "w = ((2*n-1)*np.pi/2 - 0.018)**2*sym.sqrt(E*I/(rho*A))\n",
    "display(Math(r'\\omega_2 = {:.6f} \\, \\mathrm{{rad/s}}'.format(w)))\n",
    "\n",
    "f = w / (2*np.pi)\n",
    "display(Math(r'f_2 = {:.6f} \\, \\mathrm{{Hz}}'.format(f)))"
   ]
  },
  {
   "cell_type": "code",
   "execution_count": 40,
   "id": "15b7cd38-9df2-42d2-8f96-f9a1e4dde7fb",
   "metadata": {},
   "outputs": [
    {
     "data": {
      "text/latex": [
       "$\\displaystyle \\omega_3 = 2739.068474 \\, \\mathrm{rad/s}$"
      ],
      "text/plain": [
       "<IPython.core.display.Math object>"
      ]
     },
     "metadata": {},
     "output_type": "display_data"
    },
    {
     "data": {
      "text/latex": [
       "$\\displaystyle f_3 = 435.936287 \\, \\mathrm{Hz}$"
      ],
      "text/plain": [
       "<IPython.core.display.Math object>"
      ]
     },
     "metadata": {},
     "output_type": "display_data"
    }
   ],
   "source": [
    "n = 3\n",
    "\n",
    "w = ((2*n-1)*np.pi/2 + 0.001)**2*sym.sqrt(E*I/(rho*A))\n",
    "display(Math(r'\\omega_3 = {:.6f} \\, \\mathrm{{rad/s}}'.format(w)))\n",
    "\n",
    "f = w / (2*np.pi)\n",
    "display(Math(r'f_3 = {:.6f} \\, \\mathrm{{Hz}}'.format(f)))"
   ]
  },
  {
   "cell_type": "code",
   "execution_count": 41,
   "id": "92622fc4-667f-4f48-96dd-eb2e6941f470",
   "metadata": {},
   "outputs": [
    {
     "data": {
      "text/latex": [
       "$\\displaystyle \\omega_4 = 5367.207374 \\, \\mathrm{rad/s}$"
      ],
      "text/plain": [
       "<IPython.core.display.Math object>"
      ]
     },
     "metadata": {},
     "output_type": "display_data"
    },
    {
     "data": {
      "text/latex": [
       "$\\displaystyle f_4 = 854.217584 \\, \\mathrm{Hz}$"
      ],
      "text/plain": [
       "<IPython.core.display.Math object>"
      ]
     },
     "metadata": {},
     "output_type": "display_data"
    }
   ],
   "source": [
    "n = 4\n",
    "\n",
    "w = ((2*n-1)*np.pi/2)**2*sym.sqrt(E*I/(rho*A))\n",
    "display(Math(r'\\omega_4 = {:.6f} \\, \\mathrm{{rad/s}}'.format(w)))\n",
    "\n",
    "f = w / (2*np.pi)\n",
    "display(Math(r'f_4 = {:.6f} \\, \\mathrm{{Hz}}'.format(f)))"
   ]
  },
  {
   "cell_type": "code",
   "execution_count": 42,
   "id": "220a3cd0-c858-4af4-bb87-f9a19a8b73d7",
   "metadata": {},
   "outputs": [
    {
     "data": {
      "text/latex": [
       "$\\displaystyle \\omega_5 = 8866.047619 \\, \\mathrm{rad/s}$"
      ],
      "text/plain": [
       "<IPython.core.display.Math object>"
      ]
     },
     "metadata": {},
     "output_type": "display_data"
    },
    {
     "data": {
      "text/latex": [
       "$\\displaystyle f_5 = 1411.075304 \\, \\mathrm{Hz}$"
      ],
      "text/plain": [
       "<IPython.core.display.Math object>"
      ]
     },
     "metadata": {},
     "output_type": "display_data"
    }
   ],
   "source": [
    "n = 5\n",
    "\n",
    "w = ((2*n-1)*np.pi/2 - 0.005)**2*sym.sqrt(E*I/(rho*A))\n",
    "display(Math(r'\\omega_5 = {:.6f} \\, \\mathrm{{rad/s}}'.format(w)))\n",
    "\n",
    "f = w / (2*np.pi)\n",
    "display(Math(r'f_5 = {:.6f} \\, \\mathrm{{Hz}}'.format(f)))"
   ]
  },
  {
   "cell_type": "code",
   "execution_count": 62,
   "id": "b6109117-ca1e-4065-b963-c2037d2eb806",
   "metadata": {},
   "outputs": [
    {
     "data": {
      "text/latex": [
       "$\\displaystyle \\omega_6 = 13256.477701 \\, \\mathrm{rad/s}$"
      ],
      "text/plain": [
       "<IPython.core.display.Math object>"
      ]
     },
     "metadata": {},
     "output_type": "display_data"
    },
    {
     "data": {
      "text/latex": [
       "$\\displaystyle f_6 = 2109.833954 \\, \\mathrm{Hz}$"
      ],
      "text/plain": [
       "<IPython.core.display.Math object>"
      ]
     },
     "metadata": {},
     "output_type": "display_data"
    }
   ],
   "source": [
    "n = 6\n",
    "\n",
    "w = ((2*n-1)*np.pi/2 + 0.0018)**2*sym.sqrt(E*I/(rho*A))\n",
    "display(Math(r'\\omega_6 = {:.6f} \\, \\mathrm{{rad/s}}'.format(w)))\n",
    "\n",
    "f = w / (2*np.pi)\n",
    "display(Math(r'f_6 = {:.6f} \\, \\mathrm{{Hz}}'.format(f)))"
   ]
  },
  {
   "cell_type": "code",
   "execution_count": 54,
   "id": "bae7df3d-a405-4051-9b20-5be5f76b15e2",
   "metadata": {},
   "outputs": [
    {
     "data": {
      "text/latex": [
       "$\\displaystyle Wn_{x} = \\sin{\\left(1.8749963267949 x \\right)} - 1.36222055227939 \\cos{\\left(1.8749963267949 x \\right)} - \\sinh{\\left(1.8749963267949 x \\right)} + 1.36222055227939 \\cosh{\\left(1.8749963267949 x \\right)}$"
      ],
      "text/plain": [
       "Eq(Wn_x, sin(1.8749963267949*x) - 1.36222055227939*cos(1.8749963267949*x) - sinh(1.8749963267949*x) + 1.36222055227939*cosh(1.8749963267949*x))"
      ]
     },
     "metadata": {},
     "output_type": "display_data"
    },
    {
     "data": {
      "text/latex": [
       "$\\displaystyle Wn_{x max} = 2.72422561220491$"
      ],
      "text/plain": [
       "Eq(Wn_x_max, 2.72422561220491)"
      ]
     },
     "metadata": {},
     "output_type": "display_data"
    },
    {
     "data": {
      "text/latex": [
       "$\\displaystyle Wn_{x normalized} = 0.367076792582766 \\sin{\\left(1.8749963267949 x \\right)} - 0.500039551121043 \\cos{\\left(1.8749963267949 x \\right)} - 0.367076792582766 \\sinh{\\left(1.8749963267949 x \\right)} + 0.500039551121043 \\cosh{\\left(1.8749963267949 x \\right)}$"
      ],
      "text/plain": [
       "Eq(Wn_x_normalized, 0.367076792582766*sin(1.8749963267949*x) - 0.500039551121043*cos(1.8749963267949*x) - 0.367076792582766*sinh(1.8749963267949*x) + 0.500039551121043*cosh(1.8749963267949*x))"
      ]
     },
     "metadata": {},
     "output_type": "display_data"
    },
    {
     "data": {
      "image/png": "[encoded data removed]",
      "text/plain": [
       "<Figure size 640x480 with 1 Axes>"
      ]
     },
     "metadata": {},
     "output_type": "display_data"
    },
    {
     "name": "stdout",
     "output_type": "stream",
     "text": [
      "Maximum value of Wn(x): 0.9999999999999996\n",
      "Minimum value of Wn(x): 0.0\n"
     ]
    }
   ],
   "source": [
    "x, l, beta = sym.symbols('x l beta')\n",
    "\n",
    "\n",
    "n=1\n",
    "l = 1\n",
    "beta = -((2*n-1)*np.pi/2 + 0.3042) #if beta plus then inverted plot of mode shape\n",
    "\n",
    "# Define the expression for Wn(x)\n",
    "Wn_x = sym.sinh(beta * x) - sym.sin(beta * x) - ((sym.sinh(beta * l) + sym.sin(beta * l)) / (sym.cosh(beta * l) + sym.cos(beta * l))) * (sym.cosh(beta * x) - sym.cos(beta * x))\n",
    "display(sym.Eq(sym.Symbol('Wn_x'), Wn_x))\n",
    "\n",
    "# Substitute x = 1 into Wn(x)\n",
    "Wn_x_max = Wn_x.subs(x, 1)\n",
    "display(sym.Eq(sym.Symbol('Wn_x_max'), Wn_x_max))\n",
    "\n",
    "# Normalize the expression for Wn(x) by dividing by its value at x=1\n",
    "Wn_x_normalized = Wn_x/Wn_x_max\n",
    "display(sym.Eq(sym.Symbol('Wn_x_normalized'), Wn_x_normalized))\n",
    "\n",
    "import sympy as sym\n",
    "import numpy as np\n",
    "import matplotlib.pyplot as plt\n",
    "\n",
    "# Create an empty list to store the evaluated values of Wn(x)\n",
    "Wn_values = []\n",
    "\n",
    "# Create an array of x values\n",
    "x_values = np.linspace(0, 1, 100)\n",
    "\n",
    "# Evaluate Wn(x) for each value of x\n",
    "for x_val in x_values:\n",
    "    # Substitute the current value of x into the expression\n",
    "    Wn_val = Wn_x_normalized.subs({x: x_val})\n",
    "    # Append the result to the list\n",
    "    Wn_values.append(float(Wn_val))\n",
    "\n",
    "# display(x_values)\n",
    "# display(Wn_values)\n",
    "\n",
    "# Plot Wn(x)\n",
    "plt.plot(x_values, Wn_values)\n",
    "plt.xlabel('x')\n",
    "plt.ylabel('Wn(x)')\n",
    "plt.title('Plot of Wn(x) for x = 0 to 1')\n",
    "plt.grid(True)\n",
    "plt.show()\n",
    "\n",
    "import numpy as np\n",
    "\n",
    "# Find the maximum and minimum values of Wn(x)\n",
    "max_value = np.amax(Wn_values)\n",
    "min_value = np.amin(Wn_values)\n",
    "\n",
    "print(\"Maximum value of Normalized Wn(x):\", max_value)\n",
    "print(\"Minimum value of Normalized Wn(x):\", min_value)"
   ]
  },
  {
   "cell_type": "code",
   "execution_count": 57,
   "id": "b3140087-ceeb-4ea1-b139-6ca690becda8",
   "metadata": {},
   "outputs": [
    {
     "data": {
      "text/latex": [
       "$\\displaystyle Wn_{x} = - \\sin{\\left(4.69438898038469 x \\right)} + 0.981867540768677 \\cos{\\left(4.69438898038469 x \\right)} + \\sinh{\\left(4.69438898038469 x \\right)} - 0.981867540768677 \\cosh{\\left(4.69438898038469 x \\right)}$"
      ],
      "text/plain": [
       "Eq(Wn_x, -sin(4.69438898038469*x) + 0.981867540768677*cos(4.69438898038469*x) + sinh(4.69438898038469*x) - 0.981867540768677*cosh(4.69438898038469*x))"
      ]
     },
     "metadata": {},
     "output_type": "display_data"
    },
    {
     "data": {
      "text/latex": [
       "$\\displaystyle Wn_{x max} = 1.96433068599981$"
      ],
      "text/plain": [
       "Eq(Wn_x_max, 1.96433068599981)"
      ]
     },
     "metadata": {},
     "output_type": "display_data"
    },
    {
     "data": {
      "text/latex": [
       "$\\displaystyle Wn_{x normalized} = - 0.509079253878792 \\sin{\\left(4.69438898038469 x \\right)} + 0.499848395062322 \\cos{\\left(4.69438898038469 x \\right)} + 0.509079253878792 \\sinh{\\left(4.69438898038469 x \\right)} - 0.499848395062322 \\cosh{\\left(4.69438898038469 x \\right)}$"
      ],
      "text/plain": [
       "Eq(Wn_x_normalized, -0.509079253878792*sin(4.69438898038469*x) + 0.499848395062322*cos(4.69438898038469*x) + 0.509079253878792*sinh(4.69438898038469*x) - 0.499848395062322*cosh(4.69438898038469*x))"
      ]
     },
     "metadata": {},
     "output_type": "display_data"
    },
    {
     "data": {
      "image/png": "[encoded data removed]",
      "text/plain": [
       "<Figure size 640x480 with 1 Axes>"
      ]
     },
     "metadata": {},
     "output_type": "display_data"
    },
    {
     "name": "stdout",
     "output_type": "stream",
     "text": [
      "Maximum value of Normalized Wn(x): 1.0000000000000009\n",
      "Minimum value of Normalized Wn(x): -0.719907409314293\n"
     ]
    }
   ],
   "source": [
    "x, l, beta = sym.symbols('x l beta')\n",
    "\n",
    "n=2\n",
    "l = 1\n",
    "beta = ((2*n-1)*np.pi/2 - 0.018) #if beta plus then inverted plot of mode shape\n",
    "\n",
    "# Define the expression for Wn(x)\n",
    "Wn_x = sym.sinh(beta * x) - sym.sin(beta * x) - ((sym.sinh(beta * l) + sym.sin(beta * l)) / (sym.cosh(beta * l) + sym.cos(beta * l))) * (sym.cosh(beta * x) - sym.cos(beta * x))\n",
    "display(sym.Eq(sym.Symbol('Wn_x'), Wn_x))\n",
    "\n",
    "# Substitute x = 1 into Wn(x)\n",
    "Wn_x_max = Wn_x.subs(x, 1)\n",
    "display(sym.Eq(sym.Symbol('Wn_x_max'), Wn_x_max))\n",
    "\n",
    "# Normalize the expression for Wn(x) by dividing by its value at x=1\n",
    "Wn_x_normalized = Wn_x/Wn_x_max\n",
    "display(sym.Eq(sym.Symbol('Wn_x_normalized'), Wn_x_normalized))\n",
    "\n",
    "import sympy as sym\n",
    "import numpy as np\n",
    "import matplotlib.pyplot as plt\n",
    "\n",
    "# Create an empty list to store the evaluated values of Wn(x)\n",
    "Wn_values = []\n",
    "\n",
    "# Create an array of x values\n",
    "x_values = np.linspace(0, 1, 100)\n",
    "\n",
    "# Evaluate Wn(x) for each value of x\n",
    "for x_val in x_values:\n",
    "    # Substitute the current value of x into the expression\n",
    "    Wn_val = Wn_x_normalized.subs({x: x_val})\n",
    "    # Append the result to the list\n",
    "    Wn_values.append(float(Wn_val))\n",
    "\n",
    "# display(x_values)\n",
    "# display(Wn_values)\n",
    "\n",
    "# Plot Wn(x)\n",
    "plt.plot(x_values, Wn_values)\n",
    "plt.xlabel('x')\n",
    "plt.ylabel('Wn(x)')\n",
    "plt.title('Plot of Wn(x) for x = 0 to 1')\n",
    "plt.grid(True)\n",
    "plt.show()\n",
    "\n",
    "import numpy as np\n",
    "\n",
    "# Find the maximum and minimum values of Wn(x)\n",
    "max_value = np.amax(Wn_values)\n",
    "min_value = np.amin(Wn_values)\n",
    "\n",
    "print(\"Maximum value of Normalized Wn(x):\", max_value)\n",
    "print(\"Minimum value of Normalized Wn(x):\", min_value)"
   ]
  },
  {
   "cell_type": "code",
   "execution_count": 58,
   "id": "a7711dfe-9d10-4c39-9f9e-1bf73ad434b9",
   "metadata": {},
   "outputs": [
    {
     "data": {
      "text/latex": [
       "$\\displaystyle Wn_{x} = \\sin{\\left(7.85498163397448 x \\right)} - 1.00077610531596 \\cos{\\left(7.85498163397448 x \\right)} - \\sinh{\\left(7.85498163397448 x \\right)} + 1.00077610531596 \\cosh{\\left(7.85498163397448 x \\right)}$"
      ],
      "text/plain": [
       "Eq(Wn_x, sin(7.85498163397448*x) - 1.00077610531596*cos(7.85498163397448*x) - sinh(7.85498163397448*x) + 1.00077610531596*cosh(7.85498163397448*x))"
      ]
     },
     "metadata": {},
     "output_type": "display_data"
    },
    {
     "data": {
      "text/latex": [
       "$\\displaystyle Wn_{x max} = 2.00200055187696$"
      ],
      "text/plain": [
       "Eq(Wn_x_max, 2.00200055187696)"
      ]
     },
     "metadata": {},
     "output_type": "display_data"
    },
    {
     "data": {
      "text/latex": [
       "$\\displaystyle Wn_{x normalized} = 0.499500361806823 \\sin{\\left(7.85498163397448 x \\right)} - 0.499888026692945 \\cos{\\left(7.85498163397448 x \\right)} - 0.499500361806823 \\sinh{\\left(7.85498163397448 x \\right)} + 0.499888026692945 \\cosh{\\left(7.85498163397448 x \\right)}$"
      ],
      "text/plain": [
       "Eq(Wn_x_normalized, 0.499500361806823*sin(7.85498163397448*x) - 0.499888026692945*cos(7.85498163397448*x) - 0.499500361806823*sinh(7.85498163397448*x) + 0.499888026692945*cosh(7.85498163397448*x))"
      ]
     },
     "metadata": {},
     "output_type": "display_data"
    },
    {
     "data": {
      "image/png": "[encoded data removed]",
      "text/plain": [
       "<Figure size 640x480 with 1 Axes>"
      ]
     },
     "metadata": {},
     "output_type": "display_data"
    },
    {
     "name": "stdout",
     "output_type": "stream",
     "text": [
      "Maximum value of Normalized Wn(x): 1.0000000000001137\n",
      "Minimum value of Normalized Wn(x): -0.6581412998387108\n"
     ]
    }
   ],
   "source": [
    "x, l, beta = sym.symbols('x l beta')\n",
    "\n",
    "\n",
    "n=3\n",
    "l = 1\n",
    "beta = -((2*n-1)*np.pi/2 + 0.001) #if beta plus then inverted plot of mode shape\n",
    "\n",
    "# Define the expression for Wn(x)\n",
    "Wn_x = sym.sinh(beta * x) - sym.sin(beta * x) - ((sym.sinh(beta * l) + sym.sin(beta * l)) / (sym.cosh(beta * l) + sym.cos(beta * l))) * (sym.cosh(beta * x) - sym.cos(beta * x))\n",
    "display(sym.Eq(sym.Symbol('Wn_x'), Wn_x))\n",
    "\n",
    "# Substitute x = 1 into Wn(x)\n",
    "Wn_x_max = Wn_x.subs(x, 1)\n",
    "display(sym.Eq(sym.Symbol('Wn_x_max'), Wn_x_max))\n",
    "\n",
    "# Normalize the expression for Wn(x) by dividing by its value at x=1\n",
    "Wn_x_normalized = Wn_x/Wn_x_max\n",
    "display(sym.Eq(sym.Symbol('Wn_x_normalized'), Wn_x_normalized))\n",
    "\n",
    "import sympy as sym\n",
    "import numpy as np\n",
    "import matplotlib.pyplot as plt\n",
    "\n",
    "# Create an empty list to store the evaluated values of Wn(x)\n",
    "Wn_values = []\n",
    "\n",
    "# Create an array of x values\n",
    "x_values = np.linspace(0, 1, 100)\n",
    "\n",
    "# Evaluate Wn(x) for each value of x\n",
    "for x_val in x_values:\n",
    "    # Substitute the current value of x into the expression\n",
    "    Wn_val = Wn_x_normalized.subs({x: x_val})\n",
    "    # Append the result to the list\n",
    "    Wn_values.append(float(Wn_val))\n",
    "\n",
    "# display(x_values)\n",
    "# display(Wn_values)\n",
    "\n",
    "# Plot Wn(x)\n",
    "plt.plot(x_values, Wn_values)\n",
    "plt.xlabel('x')\n",
    "plt.ylabel('Wn(x)')\n",
    "plt.title('Plot of Wn(x) for x = 0 to 1')\n",
    "plt.grid(True)\n",
    "plt.show()\n",
    "\n",
    "import numpy as np\n",
    "\n",
    "# Find the maximum and minimum values of Wn(x)\n",
    "max_value = np.amax(Wn_values)\n",
    "min_value = np.amin(Wn_values)\n",
    "\n",
    "print(\"Maximum value of Normalized Wn(x):\", max_value)\n",
    "print(\"Minimum value of Normalized Wn(x):\", min_value)"
   ]
  },
  {
   "cell_type": "code",
   "execution_count": 59,
   "id": "45d4bb7a-2ac2-4ea3-aeef-28b63841b6ee",
   "metadata": {},
   "outputs": [
    {
     "data": {
      "text/latex": [
       "$\\displaystyle Wn_{x} = - \\sin{\\left(10.9955742875643 x \\right)} + 0.999966447874107 \\cos{\\left(10.9955742875643 x \\right)} + \\sinh{\\left(10.9955742875643 x \\right)} - 0.999966447874107 \\cosh{\\left(10.9955742875643 x \\right)}$"
      ],
      "text/plain": [
       "Eq(Wn_x, -sin(10.9955742875643*x) + 0.999966447874107*cos(10.9955742875643*x) + sinh(10.9955742875643*x) - 0.999966447874107*cosh(10.9955742875643*x))"
      ]
     },
     "metadata": {},
     "output_type": "display_data"
    },
    {
     "data": {
      "text/latex": [
       "$\\displaystyle Wn_{x max} = 2.0$"
      ],
      "text/plain": [
       "Eq(Wn_x_max, 2.0)"
      ]
     },
     "metadata": {},
     "output_type": "display_data"
    },
    {
     "data": {
      "text/latex": [
       "$\\displaystyle Wn_{x normalized} = - 0.5 \\sin{\\left(10.9955742875643 x \\right)} + 0.499983223937054 \\cos{\\left(10.9955742875643 x \\right)} + 0.5 \\sinh{\\left(10.9955742875643 x \\right)} - 0.499983223937054 \\cosh{\\left(10.9955742875643 x \\right)}$"
      ],
      "text/plain": [
       "Eq(Wn_x_normalized, -0.5*sin(10.9955742875643*x) + 0.499983223937054*cos(10.9955742875643*x) + 0.5*sinh(10.9955742875643*x) - 0.499983223937054*cosh(10.9955742875643*x))"
      ]
     },
     "metadata": {},
     "output_type": "display_data"
    },
    {
     "data": {
      "image/png": "[encoded data removed]",
      "text/plain": [
       "<Figure size 640x480 with 1 Axes>"
      ]
     },
     "metadata": {},
     "output_type": "display_data"
    },
    {
     "name": "stdout",
     "output_type": "stream",
     "text": [
      "Maximum value of Normalized Wn(x): 1.0\n",
      "Minimum value of Normalized Wn(x): -0.7553392387742375\n"
     ]
    }
   ],
   "source": [
    "x, l, beta = sym.symbols('x l beta')\n",
    "\n",
    "\n",
    "n=4\n",
    "l = 1\n",
    "beta = ((2*n-1)*np.pi/2) #if beta plus then inverted plot of mode shape\n",
    "\n",
    "# Define the expression for Wn(x)\n",
    "Wn_x = sym.sinh(beta * x) - sym.sin(beta * x) - ((sym.sinh(beta * l) + sym.sin(beta * l)) / (sym.cosh(beta * l) + sym.cos(beta * l))) * (sym.cosh(beta * x) - sym.cos(beta * x))\n",
    "display(sym.Eq(sym.Symbol('Wn_x'), Wn_x))\n",
    "\n",
    "# Substitute x = 1 into Wn(x)\n",
    "Wn_x_max = Wn_x.subs(x, 1)\n",
    "display(sym.Eq(sym.Symbol('Wn_x_max'), Wn_x_max))\n",
    "\n",
    "# Normalize the expression for Wn(x) by dividing by its value at x=1\n",
    "Wn_x_normalized = Wn_x/Wn_x_max\n",
    "display(sym.Eq(sym.Symbol('Wn_x_normalized'), Wn_x_normalized))\n",
    "\n",
    "import sympy as sym\n",
    "import numpy as np\n",
    "import matplotlib.pyplot as plt\n",
    "\n",
    "# Create an empty list to store the evaluated values of Wn(x)\n",
    "Wn_values = []\n",
    "\n",
    "# Create an array of x values\n",
    "x_values = np.linspace(0, 1, 100)\n",
    "\n",
    "# Evaluate Wn(x) for each value of x\n",
    "for x_val in x_values:\n",
    "    # Substitute the current value of x into the expression\n",
    "    Wn_val = Wn_x_normalized.subs({x: x_val})\n",
    "    # Append the result to the list\n",
    "    Wn_values.append(float(Wn_val))\n",
    "\n",
    "# display(x_values)\n",
    "# display(Wn_values)\n",
    "\n",
    "# Plot Wn(x)\n",
    "plt.plot(x_values, Wn_values)\n",
    "plt.xlabel('x')\n",
    "plt.ylabel('Wn(x)')\n",
    "plt.title('Plot of Wn(x) for x = 0 to 1')\n",
    "plt.grid(True)\n",
    "plt.show()\n",
    "\n",
    "import numpy as np\n",
    "\n",
    "# Find the maximum and minimum values of Wn(x)\n",
    "max_value = np.amax(Wn_values)\n",
    "min_value = np.amin(Wn_values)\n",
    "\n",
    "print(\"Maximum value of Normalized Wn(x):\", max_value)\n",
    "print(\"Minimum value of Normalized Wn(x):\", min_value)"
   ]
  }
 ],
 "metadata": {
  "kernelspec": {
   "display_name": "Python 3 (ipykernel)",
   "language": "python",
   "name": "python3"
  },
  "language_info": {
   "codemirror_mode": {
    "name": "ipython",
    "version": 3
   },
   "file_extension": ".py",
   "mimetype": "text/x-python",
   "name": "python",
   "nbconvert_exporter": "python",
   "pygments_lexer": "ipython3",
   "version": "3.11.7"
  }
 },
 "nbformat": 4,
 "nbformat_minor": 5
}
